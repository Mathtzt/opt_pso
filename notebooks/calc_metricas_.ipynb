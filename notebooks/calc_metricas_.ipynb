{
  "cells": [
    {
      "cell_type": "markdown",
      "metadata": {
        "id": "KX8uJc_S9QhC"
      },
      "source": [
        "#### Bibliotecas"
      ]
    },
    {
      "cell_type": "code",
      "execution_count": 2,
      "metadata": {
        "id": "fd_TRqTI9QhE"
      },
      "outputs": [],
      "source": [
        "import os\n",
        "os.chdir('..')\n",
        "import pandas as pd\n",
        "import numpy as np"
      ]
    },
    {
      "cell_type": "markdown",
      "metadata": {
        "id": "O8BjSlFH9QhF"
      },
      "source": [
        "#### Caminhos dos arquivos"
      ]
    },
    {
      "cell_type": "markdown",
      "metadata": {
        "id": "8ZfKaHnd9QhG"
      },
      "source": [
        "**10 Dimensões**"
      ]
    },
    {
      "cell_type": "code",
      "execution_count": 20,
      "metadata": {
        "id": "qIKito-T9QhG"
      },
      "outputs": [],
      "source": [
        "### PSOR ###\n",
        "psor_f1_10d_path = \"./results/exp_psor_10d_2sp_0909_1225/psor/f1/opt_history.csv\"\n",
        "psor_f2_10d_path = \"./results/exp_psor_10d_2sp_0909_1225/psor/f2/opt_history.csv\"\n",
        "psor_f4_10d_path = \"./results/exp_psor_10d_2sp_0909_1225/psor/f4/opt_history.csv\"\n",
        "psor_f6_10d_path = \"./results/exp_psor_10d_2sp_0909_1225/psor/f6/opt_history.csv\"\n",
        "psor_f7_10d_path = \"./results/exp_psor_10d_2sp_0909_1306/psor/f7/opt_history.csv\"\n",
        "psor_f9_10d_path = \"./results/exp_psor_10d_2sp_0909_1306/psor/f9/opt_history.csv\"\n",
        "psor_f14_10d_path = \"./results/exp_psor_10d_2sp_0909_1306/psor/f14/opt_history.csv\"\n",
        "\n",
        "### PSO ###\n",
        "# ps_f1_10d_path = \"./results/exp_psor_10d_2sp_0909_1225/psor/f1/opt_history.csv\" ## buscar resultado da f1 no cluster\n",
        "ps_f2_10d_path = \"./results/exp_10d_f2_0409_2030/pso/f2/opt_history.csv\"\n",
        "ps_f4_10d_path = \"./results/exp_10d_f4_0509_1928/pso/f4/opt_history.csv\"\n",
        "ps_f6_10d_path = \"./results/exp_10d_f6_7_9_0509_2219/pso/f6/opt_history.csv\"\n",
        "ps_f7_10d_path = \"./results/exp_10d_f6_7_9_0509_2219/pso/f7/opt_history.csv\"\n",
        "ps_f9_10d_path = \"./results/exp_10d_f6_7_9_0509_2219/pso/f9/opt_history.csv\"\n",
        "ps_f14_10d_path = \"./results/exp_10d_f14_0609_0747/pso/f14/opt_history.csv\""
      ]
    },
    {
      "cell_type": "markdown",
      "metadata": {
        "id": "JqIr4LIh9QhG"
      },
      "source": [
        "**30 Dimensões**"
      ]
    },
    {
      "cell_type": "code",
      "execution_count": 21,
      "metadata": {
        "id": "xBjw1AaC9QhH"
      },
      "outputs": [],
      "source": [
        "### PSOR ###\n",
        "psor_f1_30d_path = \"./results/exp_psor_30d_2sp_0909_1331/psor/f1/opt_history.csv\"\n",
        "psor_f2_30d_path = \"./results/exp_psor_30d_2sp_0909_1331/psor/f2/opt_history.csv\"\n",
        "psor_f4_30d_path = \"./results/exp_psor_30d_2sp_0909_1331/psor/f4/opt_history.csv\"\n",
        "psor_f6_30d_path = \"./results/exp_psor_30d_2sp_0909_1331/psor/f6/opt_history.csv\"\n",
        "psor_f7_30d_path = \"./results/exp_psor_30d_2sp_0909_1605/psor/f7/opt_history.csv\"\n",
        "psor_f9_30d_path = \"./results/exp_psor_30d_2sp_0909_1605/psor/f9/opt_history.csv\"\n",
        "psor_f14_30d_path = \"./results/exp_psor_30d_2sp_0909_1605/psor/f14/opt_history.csv\""
      ]
    },
    {
      "cell_type": "code",
      "execution_count": 22,
      "metadata": {
        "id": "fWAXnYkP9QhH"
      },
      "outputs": [],
      "source": [
        "path_psor_10d = [\n",
        "    psor_f1_10d_path,\n",
        "    psor_f2_10d_path,\n",
        "    psor_f4_10d_path,\n",
        "    psor_f6_10d_path,\n",
        "    psor_f7_10d_path,\n",
        "    psor_f9_10d_path,\n",
        "    psor_f14_10d_path\n",
        "]\n",
        "\n",
        "path_psor_30d = [\n",
        "    psor_f1_30d_path,\n",
        "    psor_f2_30d_path,\n",
        "    psor_f4_30d_path,\n",
        "    psor_f6_30d_path,\n",
        "    psor_f7_30d_path,\n",
        "    psor_f9_30d_path,\n",
        "    psor_f14_30d_path\n",
        "]\n",
        "\n",
        "path_pso_10d = [\n",
        "    # ps_f1_10d_path,\n",
        "    ps_f2_10d_path,\n",
        "    ps_f4_10d_path,\n",
        "    ps_f6_10d_path,\n",
        "    ps_f7_10d_path,\n",
        "    ps_f9_10d_path,\n",
        "    ps_f14_10d_path\n",
        "]"
      ]
    },
    {
      "cell_type": "markdown",
      "metadata": {
        "id": "k1B0HAFi9QhI"
      },
      "source": [
        "#### Criação dos dataframes de métricas"
      ]
    },
    {
      "cell_type": "markdown",
      "metadata": {
        "id": "afE1YF3J9QhI"
      },
      "source": [
        "**Métodos auxiliares**"
      ]
    },
    {
      "cell_type": "code",
      "execution_count": 79,
      "metadata": {
        "id": "4APuBeGm9QhI"
      },
      "outputs": [],
      "source": [
        "def criar_df_metricas(list_path_experimentos: list, type: str):\n",
        "    f_opt = [100, 200, 400, 600, 700, 900, 1400]\n",
        "    list_ = []\n",
        "\n",
        "    for path, fopt in zip(list_path_experimentos, f_opt):\n",
        "        dict_ = {}\n",
        "        df = pd.read_csv(path)\n",
        "\n",
        "        dict_['type'] = type\n",
        "        dict_['f*'] = fopt\n",
        "        dict_['function'] = df['funcao_objetivo'].unique()[0]\n",
        "        dict_['dimension'] = df['dimensoes'].unique()[0]\n",
        "        dict_['best'] = f\"{np.min(df['best_fitness']):.4E}\"\n",
        "        dict_['mean'] = f\"{np.mean(df['best_fitness']):.4E}\"\n",
        "        dict_['worst'] = f\"{np.max(df['best_fitness']):.4E}\"\n",
        "        dict_['std'] = f\"{np.std(df['best_fitness']):.4E}\"\n",
        "        dict_['nout_bounds'] = df[df['best_fitness'] == np.min(df['best_fitness'])]['out_bounds'].values[0]\n",
        "        if type != 'ga':\n",
        "            dict_['error'] = f\"{(1. / abs(np.min(df['best_fitness']) - fopt)):.4E}\"\n",
        "\n",
        "        list_.append(dict_)\n",
        "\n",
        "    df_ = pd.DataFrame.from_dict(list_)\n",
        "\n",
        "    return df_"
      ]
    },
    {
      "cell_type": "markdown",
      "metadata": {
        "id": "6ciCxoy79QhI"
      },
      "source": [
        "**Métricas**"
      ]
    },
    {
      "cell_type": "code",
      "execution_count": 80,
      "metadata": {
        "id": "KyteJ2qw9QhI",
        "outputId": "ac9d86ac-2554-4e0c-ac73-00c45e178f65"
      },
      "outputs": [
        {
          "data": {
            "text/html": [
              "<div>\n",
              "<style scoped>\n",
              "    .dataframe tbody tr th:only-of-type {\n",
              "        vertical-align: middle;\n",
              "    }\n",
              "\n",
              "    .dataframe tbody tr th {\n",
              "        vertical-align: top;\n",
              "    }\n",
              "\n",
              "    .dataframe thead th {\n",
              "        text-align: right;\n",
              "    }\n",
              "</style>\n",
              "<table border=\"1\" class=\"dataframe\">\n",
              "  <thead>\n",
              "    <tr style=\"text-align: right;\">\n",
              "      <th></th>\n",
              "      <th>type</th>\n",
              "      <th>f*</th>\n",
              "      <th>function</th>\n",
              "      <th>dimension</th>\n",
              "      <th>best</th>\n",
              "      <th>mean</th>\n",
              "      <th>worst</th>\n",
              "      <th>std</th>\n",
              "      <th>nout_bounds</th>\n",
              "      <th>error</th>\n",
              "    </tr>\n",
              "  </thead>\n",
              "  <tbody>\n",
              "    <tr>\n",
              "      <th>0</th>\n",
              "      <td>psor</td>\n",
              "      <td>100</td>\n",
              "      <td>f1</td>\n",
              "      <td>10</td>\n",
              "      <td>4.3144E+02</td>\n",
              "      <td>9.3561E+04</td>\n",
              "      <td>8.4822E+05</td>\n",
              "      <td>1.6074E+05</td>\n",
              "      <td>40113</td>\n",
              "      <td>3.0172E-03</td>\n",
              "    </tr>\n",
              "    <tr>\n",
              "      <th>1</th>\n",
              "      <td>psor</td>\n",
              "      <td>200</td>\n",
              "      <td>f2</td>\n",
              "      <td>10</td>\n",
              "      <td>2.0091E+02</td>\n",
              "      <td>2.6783E+03</td>\n",
              "      <td>1.7416E+04</td>\n",
              "      <td>3.4769E+03</td>\n",
              "      <td>27425</td>\n",
              "      <td>1.1027E+00</td>\n",
              "    </tr>\n",
              "    <tr>\n",
              "      <th>2</th>\n",
              "      <td>psor</td>\n",
              "      <td>400</td>\n",
              "      <td>f4</td>\n",
              "      <td>10</td>\n",
              "      <td>4.0010E+02</td>\n",
              "      <td>4.0321E+02</td>\n",
              "      <td>4.0440E+02</td>\n",
              "      <td>9.5534E-01</td>\n",
              "      <td>26666</td>\n",
              "      <td>1.0247E+01</td>\n",
              "    </tr>\n",
              "    <tr>\n",
              "      <th>3</th>\n",
              "      <td>psor</td>\n",
              "      <td>600</td>\n",
              "      <td>f6</td>\n",
              "      <td>10</td>\n",
              "      <td>6.0000E+02</td>\n",
              "      <td>6.0010E+02</td>\n",
              "      <td>6.0051E+02</td>\n",
              "      <td>1.1724E-01</td>\n",
              "      <td>17998</td>\n",
              "      <td>2.8208E+03</td>\n",
              "    </tr>\n",
              "    <tr>\n",
              "      <th>4</th>\n",
              "      <td>psor</td>\n",
              "      <td>700</td>\n",
              "      <td>f7</td>\n",
              "      <td>10</td>\n",
              "      <td>7.0004E+02</td>\n",
              "      <td>7.0010E+02</td>\n",
              "      <td>7.0018E+02</td>\n",
              "      <td>3.6636E-02</td>\n",
              "      <td>13866</td>\n",
              "      <td>2.5397E+01</td>\n",
              "    </tr>\n",
              "    <tr>\n",
              "      <th>5</th>\n",
              "      <td>psor</td>\n",
              "      <td>900</td>\n",
              "      <td>f9</td>\n",
              "      <td>10</td>\n",
              "      <td>9.0199E+02</td>\n",
              "      <td>9.0807E+02</td>\n",
              "      <td>9.1691E+02</td>\n",
              "      <td>3.6046E+00</td>\n",
              "      <td>38456</td>\n",
              "      <td>5.0253E-01</td>\n",
              "    </tr>\n",
              "    <tr>\n",
              "      <th>6</th>\n",
              "      <td>psor</td>\n",
              "      <td>1400</td>\n",
              "      <td>f14</td>\n",
              "      <td>10</td>\n",
              "      <td>1.4000E+03</td>\n",
              "      <td>1.4001E+03</td>\n",
              "      <td>1.4002E+03</td>\n",
              "      <td>3.6634E-02</td>\n",
              "      <td>24631</td>\n",
              "      <td>2.3311E+01</td>\n",
              "    </tr>\n",
              "  </tbody>\n",
              "</table>\n",
              "</div>"
            ],
            "text/plain": [
              "   type    f* function  dimension        best        mean       worst  \\\n",
              "0  psor   100       f1         10  4.3144E+02  9.3561E+04  8.4822E+05   \n",
              "1  psor   200       f2         10  2.0091E+02  2.6783E+03  1.7416E+04   \n",
              "2  psor   400       f4         10  4.0010E+02  4.0321E+02  4.0440E+02   \n",
              "3  psor   600       f6         10  6.0000E+02  6.0010E+02  6.0051E+02   \n",
              "4  psor   700       f7         10  7.0004E+02  7.0010E+02  7.0018E+02   \n",
              "5  psor   900       f9         10  9.0199E+02  9.0807E+02  9.1691E+02   \n",
              "6  psor  1400      f14         10  1.4000E+03  1.4001E+03  1.4002E+03   \n",
              "\n",
              "          std  nout_bounds       error  \n",
              "0  1.6074E+05        40113  3.0172E-03  \n",
              "1  3.4769E+03        27425  1.1027E+00  \n",
              "2  9.5534E-01        26666  1.0247E+01  \n",
              "3  1.1724E-01        17998  2.8208E+03  \n",
              "4  3.6636E-02        13866  2.5397E+01  \n",
              "5  3.6046E+00        38456  5.0253E-01  \n",
              "6  3.6634E-02        24631  2.3311E+01  "
            ]
          },
          "execution_count": 80,
          "metadata": {},
          "output_type": "execute_result"
        }
      ],
      "source": [
        "criar_df_metricas(path_psor_10d, 'psor')"
      ]
    },
    {
      "cell_type": "code",
      "execution_count": 81,
      "metadata": {
        "id": "uFTwbqad9QhJ",
        "outputId": "d70e6973-f56c-4462-8636-c011e138a0b2"
      },
      "outputs": [
        {
          "data": {
            "text/html": [
              "<div>\n",
              "<style scoped>\n",
              "    .dataframe tbody tr th:only-of-type {\n",
              "        vertical-align: middle;\n",
              "    }\n",
              "\n",
              "    .dataframe tbody tr th {\n",
              "        vertical-align: top;\n",
              "    }\n",
              "\n",
              "    .dataframe thead th {\n",
              "        text-align: right;\n",
              "    }\n",
              "</style>\n",
              "<table border=\"1\" class=\"dataframe\">\n",
              "  <thead>\n",
              "    <tr style=\"text-align: right;\">\n",
              "      <th></th>\n",
              "      <th>type</th>\n",
              "      <th>f*</th>\n",
              "      <th>function</th>\n",
              "      <th>dimension</th>\n",
              "      <th>best</th>\n",
              "      <th>mean</th>\n",
              "      <th>worst</th>\n",
              "      <th>std</th>\n",
              "      <th>nout_bounds</th>\n",
              "      <th>error</th>\n",
              "    </tr>\n",
              "  </thead>\n",
              "  <tbody>\n",
              "    <tr>\n",
              "      <th>0</th>\n",
              "      <td>psor</td>\n",
              "      <td>100</td>\n",
              "      <td>f1</td>\n",
              "      <td>30</td>\n",
              "      <td>4.6091E+05</td>\n",
              "      <td>1.8558E+06</td>\n",
              "      <td>3.9536E+06</td>\n",
              "      <td>9.4178E+05</td>\n",
              "      <td>158314</td>\n",
              "      <td>2.1701E-06</td>\n",
              "    </tr>\n",
              "    <tr>\n",
              "      <th>1</th>\n",
              "      <td>psor</td>\n",
              "      <td>200</td>\n",
              "      <td>f2</td>\n",
              "      <td>30</td>\n",
              "      <td>2.0024E+02</td>\n",
              "      <td>8.1208E+02</td>\n",
              "      <td>5.3311E+03</td>\n",
              "      <td>1.2239E+03</td>\n",
              "      <td>87408</td>\n",
              "      <td>4.1655E+00</td>\n",
              "    </tr>\n",
              "    <tr>\n",
              "      <th>2</th>\n",
              "      <td>psor</td>\n",
              "      <td>400</td>\n",
              "      <td>f4</td>\n",
              "      <td>30</td>\n",
              "      <td>4.1918E+02</td>\n",
              "      <td>4.2809E+02</td>\n",
              "      <td>5.1387E+02</td>\n",
              "      <td>1.6028E+01</td>\n",
              "      <td>143567</td>\n",
              "      <td>5.2141E-02</td>\n",
              "    </tr>\n",
              "    <tr>\n",
              "      <th>3</th>\n",
              "      <td>psor</td>\n",
              "      <td>600</td>\n",
              "      <td>f6</td>\n",
              "      <td>30</td>\n",
              "      <td>6.0328E+02</td>\n",
              "      <td>6.0836E+02</td>\n",
              "      <td>6.1282E+02</td>\n",
              "      <td>2.5552E+00</td>\n",
              "      <td>106345</td>\n",
              "      <td>3.0500E-01</td>\n",
              "    </tr>\n",
              "    <tr>\n",
              "      <th>4</th>\n",
              "      <td>psor</td>\n",
              "      <td>700</td>\n",
              "      <td>f7</td>\n",
              "      <td>30</td>\n",
              "      <td>0.0000E+00</td>\n",
              "      <td>3.7334E+02</td>\n",
              "      <td>7.0004E+02</td>\n",
              "      <td>3.4923E+02</td>\n",
              "      <td>85477</td>\n",
              "      <td>1.4286E-03</td>\n",
              "    </tr>\n",
              "    <tr>\n",
              "      <th>5</th>\n",
              "      <td>psor</td>\n",
              "      <td>900</td>\n",
              "      <td>f9</td>\n",
              "      <td>30</td>\n",
              "      <td>9.2985E+02</td>\n",
              "      <td>9.6114E+02</td>\n",
              "      <td>9.9957E+02</td>\n",
              "      <td>1.6212E+01</td>\n",
              "      <td>155438</td>\n",
              "      <td>3.3502E-02</td>\n",
              "    </tr>\n",
              "    <tr>\n",
              "      <th>6</th>\n",
              "      <td>psor</td>\n",
              "      <td>1400</td>\n",
              "      <td>f14</td>\n",
              "      <td>30</td>\n",
              "      <td>1.4002E+03</td>\n",
              "      <td>1.4003E+03</td>\n",
              "      <td>1.4009E+03</td>\n",
              "      <td>1.3335E-01</td>\n",
              "      <td>131279</td>\n",
              "      <td>5.4609E+00</td>\n",
              "    </tr>\n",
              "  </tbody>\n",
              "</table>\n",
              "</div>"
            ],
            "text/plain": [
              "   type    f* function  dimension        best        mean       worst  \\\n",
              "0  psor   100       f1         30  4.6091E+05  1.8558E+06  3.9536E+06   \n",
              "1  psor   200       f2         30  2.0024E+02  8.1208E+02  5.3311E+03   \n",
              "2  psor   400       f4         30  4.1918E+02  4.2809E+02  5.1387E+02   \n",
              "3  psor   600       f6         30  6.0328E+02  6.0836E+02  6.1282E+02   \n",
              "4  psor   700       f7         30  0.0000E+00  3.7334E+02  7.0004E+02   \n",
              "5  psor   900       f9         30  9.2985E+02  9.6114E+02  9.9957E+02   \n",
              "6  psor  1400      f14         30  1.4002E+03  1.4003E+03  1.4009E+03   \n",
              "\n",
              "          std  nout_bounds       error  \n",
              "0  9.4178E+05       158314  2.1701E-06  \n",
              "1  1.2239E+03        87408  4.1655E+00  \n",
              "2  1.6028E+01       143567  5.2141E-02  \n",
              "3  2.5552E+00       106345  3.0500E-01  \n",
              "4  3.4923E+02        85477  1.4286E-03  \n",
              "5  1.6212E+01       155438  3.3502E-02  \n",
              "6  1.3335E-01       131279  5.4609E+00  "
            ]
          },
          "execution_count": 81,
          "metadata": {},
          "output_type": "execute_result"
        }
      ],
      "source": [
        "criar_df_metricas(path_psor_30d, 'psor')"
      ]
    },
    {
      "cell_type": "code",
      "execution_count": 82,
      "metadata": {},
      "outputs": [
        {
          "data": {
            "text/html": [
              "<div>\n",
              "<style scoped>\n",
              "    .dataframe tbody tr th:only-of-type {\n",
              "        vertical-align: middle;\n",
              "    }\n",
              "\n",
              "    .dataframe tbody tr th {\n",
              "        vertical-align: top;\n",
              "    }\n",
              "\n",
              "    .dataframe thead th {\n",
              "        text-align: right;\n",
              "    }\n",
              "</style>\n",
              "<table border=\"1\" class=\"dataframe\">\n",
              "  <thead>\n",
              "    <tr style=\"text-align: right;\">\n",
              "      <th></th>\n",
              "      <th>type</th>\n",
              "      <th>f*</th>\n",
              "      <th>function</th>\n",
              "      <th>dimension</th>\n",
              "      <th>best</th>\n",
              "      <th>mean</th>\n",
              "      <th>worst</th>\n",
              "      <th>std</th>\n",
              "      <th>nout_bounds</th>\n",
              "      <th>error</th>\n",
              "    </tr>\n",
              "  </thead>\n",
              "  <tbody>\n",
              "    <tr>\n",
              "      <th>0</th>\n",
              "      <td>pso</td>\n",
              "      <td>100</td>\n",
              "      <td>f2</td>\n",
              "      <td>10</td>\n",
              "      <td>2.0020E+02</td>\n",
              "      <td>3.4710E+03</td>\n",
              "      <td>1.3905E+04</td>\n",
              "      <td>3.5655E+03</td>\n",
              "      <td>12668</td>\n",
              "      <td>9.9804E-03</td>\n",
              "    </tr>\n",
              "    <tr>\n",
              "      <th>1</th>\n",
              "      <td>pso</td>\n",
              "      <td>200</td>\n",
              "      <td>f4</td>\n",
              "      <td>10</td>\n",
              "      <td>4.0008E+02</td>\n",
              "      <td>4.0037E+02</td>\n",
              "      <td>4.0408E+02</td>\n",
              "      <td>9.9005E-01</td>\n",
              "      <td>32295</td>\n",
              "      <td>4.9979E-03</td>\n",
              "    </tr>\n",
              "    <tr>\n",
              "      <th>2</th>\n",
              "      <td>pso</td>\n",
              "      <td>400</td>\n",
              "      <td>f6</td>\n",
              "      <td>10</td>\n",
              "      <td>6.0648E+02</td>\n",
              "      <td>6.0989E+02</td>\n",
              "      <td>6.1235E+02</td>\n",
              "      <td>1.5652E+00</td>\n",
              "      <td>30395</td>\n",
              "      <td>4.8431E-03</td>\n",
              "    </tr>\n",
              "    <tr>\n",
              "      <th>3</th>\n",
              "      <td>pso</td>\n",
              "      <td>600</td>\n",
              "      <td>f7</td>\n",
              "      <td>10</td>\n",
              "      <td>7.0010E+02</td>\n",
              "      <td>7.0066E+02</td>\n",
              "      <td>7.0207E+02</td>\n",
              "      <td>5.5649E-01</td>\n",
              "      <td>15685</td>\n",
              "      <td>9.9902E-03</td>\n",
              "    </tr>\n",
              "    <tr>\n",
              "      <th>4</th>\n",
              "      <td>pso</td>\n",
              "      <td>700</td>\n",
              "      <td>f9</td>\n",
              "      <td>10</td>\n",
              "      <td>9.2089E+02</td>\n",
              "      <td>9.5969E+02</td>\n",
              "      <td>1.0377E+03</td>\n",
              "      <td>2.6964E+01</td>\n",
              "      <td>49470</td>\n",
              "      <td>4.5271E-03</td>\n",
              "    </tr>\n",
              "    <tr>\n",
              "      <th>5</th>\n",
              "      <td>pso</td>\n",
              "      <td>900</td>\n",
              "      <td>f14</td>\n",
              "      <td>10</td>\n",
              "      <td>1.4001E+03</td>\n",
              "      <td>1.4002E+03</td>\n",
              "      <td>1.4004E+03</td>\n",
              "      <td>7.0599E-02</td>\n",
              "      <td>64989</td>\n",
              "      <td>1.9996E-03</td>\n",
              "    </tr>\n",
              "  </tbody>\n",
              "</table>\n",
              "</div>"
            ],
            "text/plain": [
              "  type   f* function  dimension        best        mean       worst  \\\n",
              "0  pso  100       f2         10  2.0020E+02  3.4710E+03  1.3905E+04   \n",
              "1  pso  200       f4         10  4.0008E+02  4.0037E+02  4.0408E+02   \n",
              "2  pso  400       f6         10  6.0648E+02  6.0989E+02  6.1235E+02   \n",
              "3  pso  600       f7         10  7.0010E+02  7.0066E+02  7.0207E+02   \n",
              "4  pso  700       f9         10  9.2089E+02  9.5969E+02  1.0377E+03   \n",
              "5  pso  900      f14         10  1.4001E+03  1.4002E+03  1.4004E+03   \n",
              "\n",
              "          std  nout_bounds       error  \n",
              "0  3.5655E+03        12668  9.9804E-03  \n",
              "1  9.9005E-01        32295  4.9979E-03  \n",
              "2  1.5652E+00        30395  4.8431E-03  \n",
              "3  5.5649E-01        15685  9.9902E-03  \n",
              "4  2.6964E+01        49470  4.5271E-03  \n",
              "5  7.0599E-02        64989  1.9996E-03  "
            ]
          },
          "execution_count": 82,
          "metadata": {},
          "output_type": "execute_result"
        }
      ],
      "source": [
        "criar_df_metricas(path_pso_10d, 'pso')"
      ]
    },
    {
      "cell_type": "markdown",
      "metadata": {},
      "source": [
        "#### Testes de hipótese"
      ]
    },
    {
      "cell_type": "code",
      "execution_count": 9,
      "metadata": {},
      "outputs": [],
      "source": [
        "import scipy.stats as stats"
      ]
    },
    {
      "cell_type": "markdown",
      "metadata": {},
      "source": [
        "**Wilcoxon**"
      ]
    },
    {
      "cell_type": "code",
      "execution_count": 71,
      "metadata": {},
      "outputs": [],
      "source": [
        "tdf1 = pd.read_csv(psor_f2_10d_path)\n",
        "tdf2 = pd.read_csv(ps_f2_10d_path)"
      ]
    },
    {
      "cell_type": "code",
      "execution_count": 72,
      "metadata": {},
      "outputs": [],
      "source": [
        "distr_psor = tdf1['best_fitness']\n",
        "distr_comparacao = tdf2['best_fitness']"
      ]
    },
    {
      "cell_type": "code",
      "execution_count": 73,
      "metadata": {},
      "outputs": [
        {
          "name": "stdout",
          "output_type": "stream",
          "text": [
            "Não há evidências de diferença significativa entre as distribuições.\n",
            "0.8235769439488649\n"
          ]
        }
      ],
      "source": [
        "# Realiza o Teste de Wilcoxon\n",
        "statistic, p_value = stats.wilcoxon(distr_psor, distr_comparacao)\n",
        "\n",
        "# Verifica se há uma diferença significativa\n",
        "alpha = 0.05\n",
        "if p_value < alpha:\n",
        "    print(\"Há evidências de diferença significativa entre as distribuições.\")\n",
        "else:\n",
        "    print(\"Não há evidências de diferença significativa entre as distribuições.\")\n",
        "print(p_value)"
      ]
    },
    {
      "cell_type": "code",
      "execution_count": 74,
      "metadata": {},
      "outputs": [
        {
          "name": "stdout",
          "output_type": "stream",
          "text": [
            "Não há evidências de diferença significativa entre as médias das distribuições.\n",
            "0.3948733333083315\n"
          ]
        }
      ],
      "source": [
        "# Realiza o Teste t para amostras independentes\n",
        "statistic, p_value = stats.ttest_ind(distr_psor, distr_comparacao)\n",
        "\n",
        "# Verifica se há uma diferença significativa\n",
        "alpha = 0.05\n",
        "if p_value < alpha:\n",
        "    print(\"Há evidências de diferença significativa entre as médias das distribuições.\")\n",
        "else:\n",
        "    print(\"Não há evidências de diferença significativa entre as médias das distribuições.\")\n",
        "print(p_value)"
      ]
    },
    {
      "cell_type": "code",
      "execution_count": null,
      "metadata": {},
      "outputs": [],
      "source": []
    }
  ],
  "metadata": {
    "colab": {
      "provenance": []
    },
    "kernelspec": {
      "display_name": "Python 3",
      "language": "python",
      "name": "python3"
    },
    "language_info": {
      "codemirror_mode": {
        "name": "ipython",
        "version": 3
      },
      "file_extension": ".py",
      "mimetype": "text/x-python",
      "name": "python",
      "nbconvert_exporter": "python",
      "pygments_lexer": "ipython3",
      "version": "3.9.1"
    },
    "orig_nbformat": 4
  },
  "nbformat": 4,
  "nbformat_minor": 0
}
